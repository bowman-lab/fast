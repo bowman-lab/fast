{
 "cells": [
  {
   "cell_type": "markdown",
   "metadata": {},
   "source": [
    "## Welcome to the FAST tutorial. This guide will provide instructions on how to install and run FAST. The guide assumes you already have an equilibrated structure ready for simulation."
   ]
  },
  {
   "cell_type": "markdown",
   "metadata": {},
   "source": [
    "## Obtaining the code"
   ]
  },
  {
   "cell_type": "markdown",
   "metadata": {},
   "source": [
    "--I recommend making a directory like /Users/bowman/programs and changing into that directory.\n",
    "\n",
    "--Next, download FAST with the following command\n",
    "\n",
    "**git clone https://github.com/bowman-lab/fast.git**\n",
    "\n",
    "--Add the FAST path to your bash profile, in my ~/.bashrc file I have:\n",
    "\n",
    "**export PYTHONPATH=\"/project/bowmore/mdward/programs/:$PYTHONPATH\"**"
   ]
  },
  {
   "cell_type": "code",
   "execution_count": null,
   "metadata": {
    "collapsed": true
   },
   "outputs": [],
   "source": []
  },
  {
   "cell_type": "markdown",
   "metadata": {},
   "source": [
    "## Dependencies"
   ]
  },
  {
   "cell_type": "markdown",
   "metadata": {},
   "source": [
    "-FAST depends on the following packages -- so make sure you have them installed\n",
    "\n",
    "    --numpy\n",
    "    --scipy\n",
    "    --mdtraj (install instructions at https://mdtraj.org/1.9.3/installation.html)\n",
    "    --enspara (install instructions at https://enspara.readthedocs.io/en/latest/installation.html)"
   ]
  },
  {
   "cell_type": "markdown",
   "metadata": {},
   "source": [
    "## Running the code"
   ]
  },
  {
   "cell_type": "markdown",
   "metadata": {},
   "source": [
    "--Ultimately, you will run a FAST python script at the command line (i.e. **python example-fast-script.py**). Let's take a look at an example script that is setup to run FAST where the geometric component is the distance between two sets of atoms in a protein. As configured, this will likely not run on your setup because your queuing system may be different than ours AND you may want to use a different ranking function / geometric component than distance. We will follow up by exploring these a bit further."
   ]
  },
  {
   "cell_type": "code",
   "execution_count": null,
   "metadata": {
    "collapsed": true
   },
   "outputs": [],
   "source": [
    "import glob\n",
    "import mdtraj as md\n",
    "import numpy as np\n",
    "from enspara.cluster import KCenters\n",
    "from enspara.msm import MSM\n",
    "from fast import AdaptiveSampling\n",
    "from fast.md_gen.gromax import Gromax, GromaxProcessing\n",
    "from fast.msm_gen import ClusterWrap\n",
    "from fast import DistWrap, PocketWrap\n",
    "from fast.sampling import rankings, scalings\n",
    "from fast.submissions.lsf_subs import LSFSub\n",
    "from fast import SaveWrap\n",
    "from fast.analysis.pockets import ResiduePockets\n",
    "\n",
    "def entry_point():\n",
    "\n",
    "\n",
    "    ###########################################\n",
    "    #            define parameters            #\n",
    "    ###########################################\n",
    "\n",
    "    # SIMULATION PARAMETERS\n",
    "    \n",
    "    input_dir = \"/path/to/dir/with/input_files\"\n",
    "    # input_dir should be a path to a directory that contains\n",
    "    # a topol.top file from equilibration\n",
    "    # an mdp file that contains the simulation parameters\n",
    "    # a pdb file of the protein with hydrogens (i.e. equilibrated starting structure - no solvent)\n",
    "    # a start.gro file of the equilibrated system\n",
    "    \n",
    "    q_name = \"bowman\"\n",
    "    # q_name -- The name of the queue you are going to submit to \n",
    "    # currently we have support for LSF and SLURM queues, as well as submitting on a laptop/desktop.\n",
    "    \n",
    "    gpu_info = '\"num=1:gmodel=TeslaP100_PCIE_16GB\"'\n",
    "    # Name of the GPU, which is needed on our queuing system to select a GPU specific node \n",
    "    # This is important for the code to be able to generate the appropriate header for \n",
    "    # submitting to your queing system\n",
    "    # For example, this will end up writing out #BSUB -gpu \"num=1:gmodel=TeslaP100_PCIE_16GB\"\n",
    "    \n",
    "    n_cpus_gromacs = 24\n",
    "    n_gpus_gromacs = 1\n",
    "    \n",
    "    sim_name = \"SARS1_nsp16_distance\"\n",
    "    # Name to give the job on your queueing system \n",
    "    \n",
    "    top_filename = \"%s/topol.top\" % input_dir\n",
    "    mdp_filename = \"%s/npt.mdp\" % input_dir\n",
    "    \n",
    "    gromacs_source_file = \"/project/bowmore/mizimmer/installations/gromacs_2020.1_p100_build\"\n",
    "    #Path to gromacs installation\n",
    "    \n",
    "    itp_files = None #glob.glob(\"./input_files/SARS-2_nsp16/*.itp\")\n",
    "\n",
    "    pbc = 'mol'\n",
    "    ur = 'compact'\n",
    "    #Options that will be used by gromacs' trjconv to align trajectories between rounds of FAST\n",
    "\n",
    "    # CLUSTERING PARAMETERS\n",
    "    cluster_radius = 0.12\n",
    "    # Radius to be used for KCenters clustering\n",
    "    prot_masses = \"%s/prot_masses.pdb\" % input_dir\n",
    "    \n",
    "    atom_indices = \"./atom_indices.dat\"\n",
    "    # The atom indices (with respect to prot_masses) you want to use to cluster between rounds of FAST\n",
    "    # Backbone atoms are a solid default choice.\n",
    "    \n",
    "    n_cpus_clustering = 128\n",
    "    \n",
    "    # save states\n",
    "    save_routine = 'full'\n",
    "    # The type of states to save. Three options: 1) 'masses' saves\n",
    "    #    only in the centers_masses, 2) 'restarts' saves only the\n",
    "    #    restarts, and 3) 'full' saves both.\n",
    "    \n",
    "    \n",
    "    save_centers = 'all'\n",
    "    # The indicator for the set of centers to save. Four options:\n",
    "    #    1) 'all' will save every center, 2) 'none' will not save any centers,\n",
    "    #    3) 'restarts' will only save the centers to use for\n",
    "    #    restarting simulations, and 4) 'auto' will only save new states\n",
    "    #    that were discovered in previous round of sampling.\n",
    "    \n",
    "    save_xtc_centers = True\n",
    "    # Option to save all the cluster centers as an xtc file.\n",
    "    \n",
    "    n_cpus_save = 128\n",
    "\n",
    "    \n",
    "    # ANALYSIS PARAMETERS\n",
    "    \n",
    "    # Current example is using distance as geometric component\n",
    "    # RMSD, contacts, potential energy, and pockets are all supported \n",
    "    # and can be found in fast/analysis\n",
    "\n",
    "    atom_pair_filename = \"/some/path/to/atom_pairs.dat\"\n",
    "    # This file should have two columns. If we want to measure the distance \n",
    "    # between atom 15 and atom 27 (with respect to prot_masses) column 1 would contain\n",
    "    # a 15 and column 2 would contain a 27. Each row we add contains another pair of atoms\n",
    "    # that we use to measure a distance. The average distance taken from all the pairs (rows)\n",
    "    # is used as the FAST geometric component.\n",
    "    \n",
    "    p_norm = 1\n",
    "    # The p-norm to use when processing distance pairs. i.e.\n",
    "    #    ||x||_p := sum(|x_i|^p)^(1/p)\n",
    "    # A value of 1 just takes the mean.\n",
    "    \n",
    "    set_points = None\n",
    "    # A list of reference distances for each atom pair. If provided,\n",
    "    # reports deviation from these distances.\n",
    "    \n",
    "    center_of_mass = False\n",
    "    # calculates the distance between\n",
    "    # the center of mass of the first column of atoms and the center\n",
    "    # of mass of the second column of atoms.\n",
    "\n",
    "    # RANKING PARAMETERS\n",
    "    directed_scaling = scalings.feature_scale(maximize=True)\n",
    "    # Scales geometric component (e.g. distance) and statistical component (e.g. counts)\n",
    "    # to values between between 0 and 1\n",
    "    # Feature scales data: (x - xmin) / (xmax - xmin)\n",
    "    # With maximize=True, FAST looks to maximize the distance\n",
    "    # if maximize=False, FAST looks to minimize the distance\n",
    "    \n",
    "    distance_metric = md.rmsd\n",
    "    # This will ultimately be used to discourage FAST from choosing geometrically similar \n",
    "    # states when choosing states for further simulation.\n",
    "    width = 0.36\n",
    "    # This is the gaussian spread that is used to distinguish between states. \n",
    "\n",
    "    \n",
    "    # ADAPTIVE SAMPLING PARAMETERS\n",
    "    \n",
    "    starting_structure = \"%s/start.gro\" % input_dir\n",
    "    submission_obj = LSFSub(\n",
    "        'bowman', n_cpus=128, R=\"model=AMDEPYC_7742\")\n",
    "    # This creates a script to submit clustering and analysis jobs to the appropriate\n",
    "    # nodes in your queue with the appropriate keyword arguments.\n",
    "    # This may require customization for your specific queuing system. Please \n",
    "    # explore submissions/lsf_subs.py, submissions/os_sub.py, submissions/slurm_subs.py\n",
    "    # for examples on how to build a class that is specific to your queuing system.\n",
    "    \n",
    "    n_gens = 15\n",
    "    #Number of rounds or \"generations\" of FAST to run\n",
    "    n_kids = 10\n",
    "    #Number of simulations to run in each generation of FAST\n",
    "    \n",
    "    update_freq = 1\n",
    "    #The number of generations between a full reclustering of states and\n",
    "    #    analysis of cluster centers. Defaults to never reclustering\n",
    "    #    (continually adds new cluster centers without changing previously\n",
    "    #    discovered centers).\n",
    "    \n",
    "    continue_prev = False\n",
    "    # If you are continuing a FAST run, you can set this to True\n",
    "    \n",
    "    output_dir = \"FASTDistance-SARS1_nsp16\"\n",
    "    # Name of directory to write to store FAST output\n",
    "\n",
    "    ############################################\n",
    "    #            initialize objects            #\n",
    "    ############################################\n",
    "\n",
    "    # SIMULATIONS OBJECTS\n",
    "    gro_submission = LSFSub(\n",
    "        q_name, n_tasks=n_cpus_gromacs, job_name=sim_name, gpu=gpu_info, R='\"span[hosts=1]\"')\n",
    "    \n",
    "    gro_processing = GromaxProcessing(\n",
    "        align_group=10, output_group=10, pbc=pbc, ur=ur)\n",
    "    # In this specific example, 10 is the index for protein. Check your\n",
    "    # .ndx file and select the index that chooses protein.\n",
    "    \n",
    "    sim_obj = Gromax(\n",
    "        top_file=top_filename, mdp_file=mdp_filename, n_cpus=n_cpus_gromacs,\n",
    "        n_gpus=n_gpus_gromacs, processing_obj=gro_processing,\n",
    "        submission_obj=gro_submission, pin='on',\n",
    "        source_file=gromacs_source_file, itp_files=itp_files)\n",
    "\n",
    "    # CLUSTERING OBJECT\n",
    "    base_clust_obj = KCenters(metric=md.rmsd, cluster_radius=cluster_radius)\n",
    "    clust_obj = ClusterWrap(\n",
    "        base_struct=prot_masses, base_clust_obj=base_clust_obj,\n",
    "        atom_indices=atom_indices, n_procs=n_cpus_clustering)\n",
    "\n",
    "    # SAVE STATE OBJECT\n",
    "    save_state_obj = SaveWrap(\n",
    "        save_routine=save_routine, centers=save_centers,\n",
    "        n_procs=n_cpus_save, save_xtc_centers=save_xtc_centers)\n",
    "\n",
    "    # ANALYSIS OBJECT\n",
    "    anal_obj = DistWrap(\n",
    "        atom_pairs=atom_pair_filename, p_norm=p_norm, set_points=set_points,\n",
    "        center_of_mass=center_of_mass)\n",
    "\n",
    "    # RANKING OBJECT\n",
    "    ranking_obj = rankings.FAST(\n",
    "        directed_scaling=directed_scaling, distance_metric=distance_metric,\n",
    "        width=width)\n",
    "\n",
    "    # SAMPLING OBJECT\n",
    "    a = AdaptiveSampling(\n",
    "        starting_structure, n_gens=n_gens, n_kids=n_kids, sim_obj=sim_obj,\n",
    "        cluster_obj=clust_obj, save_state_obj=save_state_obj,\n",
    "        analysis_obj=anal_obj, ranking_obj=ranking_obj,\n",
    "        continue_prev=continue_prev, update_freq=update_freq,\n",
    "        sub_obj=submission_obj, output_dir=output_dir)\n",
    "\n",
    "    ##############################################\n",
    "    #                run sampling                #\n",
    "    ##############################################\n",
    "\n",
    "    # run\n",
    "    a.run()\n",
    "\n",
    "\n",
    "if __name__=='__main__':\n",
    "    entry_point()"
   ]
  },
  {
   "cell_type": "markdown",
   "metadata": {},
   "source": [
    "-- Given the above script (lets call it \"example-fast-script.py\") if everything was configured properly for your system, we would now simply run:\n",
    "\n",
    "**python example-fast-script.py**\n",
    "\n",
    "--In practice, I am used to running this on a cluster with an LSF queueing system. I CD into a directory where I want the FAST output to be, then I use **screen** or **tmux** before submitting that python command on the head node. The FAST code handles submitting jobs to the appropriate high-compute nodes (e.g. submitting to a GPU node for running the simulations, then maybe submitting to a CPU node for clustering and ranking states for further simulation)"
   ]
  },
  {
   "cell_type": "markdown",
   "metadata": {},
   "source": [
    "## Adapting the above script to your needs"
   ]
  },
  {
   "cell_type": "markdown",
   "metadata": {},
   "source": [
    "--It is very likely that your queueing system is different than ours. You will at the very least need to know how the queue submission classes work in order to configure your script properly. In some cases, you may need to build your own class. We will cover some of this below\n",
    "\n",
    "--It is very likely that you will want a different ranking function than the distance example used above. Here will explore how to setup the other order parameters that we already have supported. You can always create your own class if you would like a new order parameter :D\n",
    "\n"
   ]
  },
  {
   "cell_type": "markdown",
   "metadata": {},
   "source": [
    "### Configuring for your queueing system"
   ]
  },
  {
   "cell_type": "markdown",
   "metadata": {},
   "source": [
    "--You will need to create two objects that interface with your queuing system (as we did with **submission_obj** and **gro_submission** in the above code)\n",
    "\n",
    "--In this case, **submission_obj** is used to submit jobs to a compute node to separately do clustering, building MSMs, ranking states, and saving states. Similarly, **gro_submission** is used to submit a job to a compute node to run the Gromacs simulations. "
   ]
  },
  {
   "cell_type": "markdown",
   "metadata": {},
   "source": [
    "--Under the hood, these objects are simply creating a file (default name is lsf_submission) that has the format required by the queueing system. For example, for the first generation of clustering, **submission_obj** creates a file *clusterer_submission_gen000* that looks like this:"
   ]
  },
  {
   "cell_type": "code",
   "execution_count": null,
   "metadata": {
    "collapsed": true
   },
   "outputs": [],
   "source": [
    "#!/bin/bash\n",
    "\n",
    "# specify resources\n",
    "#BSUB -n 1\n",
    "\n",
    "# max wallclock time\n",
    "#BSUB -ptl 1500:00\n",
    "\n",
    "# queue\n",
    "#BSUB -q bowman\n",
    "\n",
    "# name and output\n",
    "#BSUB -J LSF_Sub\n",
    "#BSUB -o lsf_output-%J.log\n",
    "#BSUB -e lsf_output-%J.log\n",
    "\n",
    "# additional specs\n",
    "#BSUB -n_cpus 128\n",
    "#BSUB -R \"model=AMDEPYC_7742\"\n",
    "\n",
    "sync\n",
    "python clusterer.py"
   ]
  },
  {
   "cell_type": "markdown",
   "metadata": {},
   "source": [
    "-- then, it submits this with **bsub < clusterer_submission_gen000**"
   ]
  },
  {
   "cell_type": "markdown",
   "metadata": {},
   "source": [
    "--Recall that this generated file comes from\n",
    "\n",
    "submission_obj = LSFSub(\n",
    "        'bowman', n_cpus=128, R=\"model=AMDEPYC_7742\")\n",
    "        \n",
    "--**LSFSub** requires that you provide the queue name (bowman) and then you can provide optional keyword arguments that were necessary in our case (e.g. -R \"model=AMDEPYC_7742\"). You may have some of these optional parameters that we can't know ahead of time, but have provided a way for you to add them in (just add them as keyword arguments). The key here is to just make sure your *submission_obj* contains the necessary parameters to generate the header of your submission file.\n",
    "\n",
    "--This example demonstrates how to use the **LSFSub** class, but the same ideas apply if you use the **SlurmSub** class. If you don't use LSF or SLURM, please create your own class and look at submissions/lsf_subs.py as an example."
   ]
  },
  {
   "cell_type": "markdown",
   "metadata": {},
   "source": [
    "--Side note:\n",
    "    You might wonder where **python clusterer.py** comes from. This gets autogenerated and in this case just calls the run method of cluster_obj you defined before (i.e. it performs the clustering)."
   ]
  },
  {
   "cell_type": "markdown",
   "metadata": {},
   "source": [
    "--Our other object to interface with the queuing system is **gro_submission**, which looks like this (from above)\n",
    "\n",
    "gro_submission = LSFSub(\n",
    "        q_name, n_tasks=n_cpus_gromacs, job_name=sim_name, gpu=gpu_info, R='\"span[hosts=1]\"')\n",
    "        \n",
    "--This gets passed in as a parameter to make a **Gromax** object which will ultimately generate the following:"
   ]
  },
  {
   "cell_type": "code",
   "execution_count": null,
   "metadata": {
    "collapsed": true
   },
   "outputs": [],
   "source": [
    "#!/bin/bash\n",
    "\n",
    "# specify resources\n",
    "#BSUB -n 24\n",
    "\n",
    "# max wallclock time\n",
    "#BSUB -ptl 1500:00\n",
    "\n",
    "# queue\n",
    "#BSUB -q bowman\n",
    "\n",
    "# name and output\n",
    "#BSUB -J SARS1_nsp16_distance\n",
    "#BSUB -o lsf_output-%J.log\n",
    "#BSUB -e lsf_output-%J.log\n",
    "\n",
    "# additional specs\n",
    "#BSUB -gpu \"num=1:gmodel=TeslaP100_PCIE_16GB\"\n",
    "#BSUB -R \"span[hosts=1]\"\n",
    "\n",
    "source /project/bowmore/mizimmer/installations/gromacs_2020.1_p100_build\n",
    "\n",
    "if [ ! -f \"/path/to/FAST/output/gen0/kid0/md.tpr\" ]; then\n",
    "    echo \"Didn't find md.tpr, running grompp...\"\n",
    "    ls\n",
    "    pwd\n",
    "    gmx grompp -f /path/to/npt.mdp -c /path/to/FAST/output/gen0/kid0/start.gro -p /path/to/topol.top -o md -maxwarn 2\n",
    "else\n",
    "    echo \"Found md.tpr, not running grompp\"\n",
    "fi\n",
    "\n",
    "gmx mdrun -cpi state -g md -s md -o md -c after_md -v -nt 24 -x frame0 -ntmpi 1 -ntomp 24 -pin on\n",
    "echo '10 0' | gmx trjconv -f frame0.xtc -o frame0_aligned.xtc -s md.tpr -center -pbc mol -ur compact\n",
    "echo '10 10' | gmx trjconv -f frame0.xtc -o frame0_masses.xtc -s md.tpr -center -pbc mol -ur compact"
   ]
  },
  {
   "cell_type": "markdown",
   "metadata": {},
   "source": [
    "If you do not use SLURM or LSF, you will have to configure a class for your own queueing system. Please look at /fast/submissions/lsf_sub.py -- this can serve as a template for building your own custom class."
   ]
  },
  {
   "cell_type": "markdown",
   "metadata": {},
   "source": [
    "### Configuring for the geometric component (order parameter) you want to use"
   ]
  },
  {
   "cell_type": "markdown",
   "metadata": {},
   "source": [
    "The example FAST python script shown above was configured for setting the geometric component to measure the distance between two groups of atoms. Here, we will demonstrate some other examples, but you should peruse through the python files in fast/analysis/ to see how to configure FAST with other geometric components. We have already created classes that allow you to configure the geometric component for the following:\n",
    "\n",
    "-fraction of native contacts\n",
    "\n",
    "-rmsd \n",
    "\n",
    "-potential energy\n",
    "\n",
    "-pocket volume"
   ]
  },
  {
   "cell_type": "markdown",
   "metadata": {},
   "source": [
    "Let's review how we configured FAST to maximize a distance between a group of atoms by highlighting the relevant parts from the python script above:"
   ]
  },
  {
   "cell_type": "code",
   "execution_count": null,
   "metadata": {
    "collapsed": true
   },
   "outputs": [],
   "source": [
    "# ANALYSIS PARAMETERS\n",
    "\n",
    "# Current example is using distance as geometric component\n",
    "# RMSD, contacts, potential energy, and pockets are all supported \n",
    "# and can be found in fast/analysis\n",
    "\n",
    "atom_pair_filename = \"/some/path/to/atom_pairs.dat\"\n",
    "# This file should have two columns. If we want to measure the distance \n",
    "# between atom 15 and atom 27 (with respect to prot_masses) column 1 would contain\n",
    "# a 15 and column 2 would contain a 27. Each row we add contains another pair of atoms\n",
    "# that we use to measure a distance. The average distance taken from all the pairs (rows)\n",
    "# is used as the FAST geometric component.\n",
    "\n",
    "p_norm = 1\n",
    "# The p-norm to use when processing distance pairs. i.e.\n",
    "#    ||x||_p := sum(|x_i|^p)^(1/p)\n",
    "# A value of 1 just takes the mean.\n",
    "\n",
    "set_points = None\n",
    "# A list of reference distances for each atom pair. If provided,\n",
    "# reports deviation from these distances.\n",
    "\n",
    "center_of_mass = False\n",
    "# calculates the distance between\n",
    "# the center of mass of the first column of atoms and the center\n",
    "# of mass of the second column of atoms.\n",
    "\n",
    "#ANALYSIS OBJECT\n",
    "anal_obj = DistWrap(\n",
    "    atom_pairs=atom_pair_filename, p_norm=p_norm, set_points=set_points,\n",
    "    center_of_mass=center_of_mass)"
   ]
  },
  {
   "cell_type": "markdown",
   "metadata": {},
   "source": [
    "### RMSD"
   ]
  },
  {
   "cell_type": "markdown",
   "metadata": {},
   "source": [
    "Let's say we want to use RMSD to a known structure as the geometric component instead of distance between atoms as the geometric component. We should replace the above code with the following:"
   ]
  },
  {
   "cell_type": "markdown",
   "metadata": {},
   "source": [
    "In the first example, we will use RMSD as the geometric component to encourage the simulation to explore away from the starting structure"
   ]
  },
  {
   "cell_type": "code",
   "execution_count": null,
   "metadata": {
    "collapsed": true
   },
   "outputs": [],
   "source": [
    "#ANALYSIS PARAMETERS\n",
    "# none\n",
    "\n",
    "# RANKING PARAMETERS\n",
    "directed_scaling = scalings.feature_scale(maximize=True)\n",
    "#Since we are exploring conformational space from a starting structure,\n",
    "# We want to maximize the RMSD relative to the starting structure, so maximize=True\n",
    "\n",
    "#ANALYSIS OBJECT\n",
    "anal_obj = RMSDWrap(prot_masses)\n",
    "#All we need to do is supply the starting structure, which we previously stored as the variable prot_masses\n"
   ]
  },
  {
   "cell_type": "markdown",
   "metadata": {},
   "source": [
    "In the next example, we will use RMSD so that FAST helps us hone in on a target structure"
   ]
  },
  {
   "cell_type": "code",
   "execution_count": null,
   "metadata": {
    "collapsed": true
   },
   "outputs": [],
   "source": [
    "#ANALYSIS PARAMETERS\n",
    "target_structure = md.load(\"path/to/target/structure.pdb\")\n",
    "\n",
    "# RANKING PARAMETERS\n",
    "directed_scaling = scalings.feature_scale(maximize=False)\n",
    "# Since we are honing in on a target structure,\n",
    "# We want to minimize the RMSD to the target structure, so minimize=True\n",
    "\n",
    "#ANALYSIS OBJECT\n",
    "anal_obj = RMSDWrap(target_structure)"
   ]
  },
  {
   "cell_type": "code",
   "execution_count": null,
   "metadata": {
    "collapsed": true
   },
   "outputs": [],
   "source": []
  },
  {
   "cell_type": "markdown",
   "metadata": {},
   "source": [
    "### Pockets"
   ]
  },
  {
   "cell_type": "markdown",
   "metadata": {},
   "source": [
    "Here we will show you how to configure the geometric component to maximize pocket volume"
   ]
  },
  {
   "cell_type": "code",
   "execution_count": null,
   "metadata": {
    "collapsed": true
   },
   "outputs": [],
   "source": [
    "# ANALYSIS PARAMETERS\n",
    "\n",
    "min_rank = 6\n",
    "# Minimum rank for defining a pocket element. Ranges from 1-7, 1\n",
    "# being very shallow and 7 being a fully enclosed pocket element.\n",
    "\n",
    "probe_radius = 0.14\n",
    "# The radius of the grid point to probe for pocket elements.\n",
    "\n",
    "min_cluster_size = 3\n",
    "# The minimum number of adjacent pocket elements to consider a\n",
    "# true pocket. Trims pockets smaller than this size.\n",
    "\n",
    "n_cpus = 24 \n",
    "\n",
    "anal_obj = PocketWrap(\n",
    "        min_rank=min_rank, min_cluster_size=min_cluster_size, n_cpus=n_cpus,\n",
    "        probe_radius=probe_radius)"
   ]
  },
  {
   "cell_type": "code",
   "execution_count": null,
   "metadata": {
    "collapsed": true
   },
   "outputs": [],
   "source": []
  },
  {
   "cell_type": "markdown",
   "metadata": {},
   "source": [
    "### Custom geometric component"
   ]
  },
  {
   "cell_type": "markdown",
   "metadata": {},
   "source": [
    "Feel free to create a class of your own, like **AngleWrap**, which might maximize the angle between two protein domains. Please follow the conventions used in the python scripts in fast/analysis/"
   ]
  },
  {
   "cell_type": "code",
   "execution_count": null,
   "metadata": {
    "collapsed": true
   },
   "outputs": [],
   "source": []
  }
 ],
 "metadata": {
  "kernelspec": {
   "display_name": "Python 3",
   "language": "python",
   "name": "python3"
  },
  "language_info": {
   "codemirror_mode": {
    "name": "ipython",
    "version": 3
   },
   "file_extension": ".py",
   "mimetype": "text/x-python",
   "name": "python",
   "nbconvert_exporter": "python",
   "pygments_lexer": "ipython3",
   "version": "3.6.3"
  },
  "toc": {
   "base_numbering": 1,
   "nav_menu": {},
   "number_sections": true,
   "sideBar": true,
   "skip_h1_title": false,
   "title_cell": "Table of Contents",
   "title_sidebar": "Contents",
   "toc_cell": false,
   "toc_position": {},
   "toc_section_display": true,
   "toc_window_display": false
  }
 },
 "nbformat": 4,
 "nbformat_minor": 2
}
